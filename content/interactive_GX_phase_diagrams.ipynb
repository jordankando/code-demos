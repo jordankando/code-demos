{
 "cells": [
  {
   "cell_type": "code",
   "execution_count": 1,
   "metadata": {},
   "outputs": [],
   "source": [
    "import numpy as np\n",
    "import matplotlib.pyplot as plt\n",
    "from scipy.optimize import least_squares"
   ]
  },
  {
   "cell_type": "code",
   "execution_count": 2,
   "metadata": {},
   "outputs": [],
   "source": [
    "from scipy.optimize import fsolve\n",
    "\n",
    "\n",
    "def obj_func(p, par1, par2):\n",
    "     (x1, y1, x2, y2, m) = p\n",
    "\n",
    "     eqn1 = np.polyval(par1, x1) - y1\n",
    "     eqn2 = np.polyval(par2, x2) - y2\n",
    "     eqn3 = 2*par1[0] * x1 + par1[1] - m\n",
    "     eqn4 = 2*par2[0] * x2 + par2[1] - m\n",
    "     eqn5 = m * (x1 - x2) - (y1 - y2)\n",
    "\n",
    "     return [eqn1, eqn2, eqn3, eqn4, eqn5]"
   ]
  },
  {
   "cell_type": "markdown",
   "metadata": {},
   "source": [
    "# Two Phase Curve Test"
   ]
  },
  {
   "cell_type": "code",
   "execution_count": 3,
   "metadata": {},
   "outputs": [
    {
     "name": "stdout",
     "output_type": "stream",
     "text": [
      "[0.25   3.0625 1.75   3.8125 0.5   ]\n"
     ]
    }
   ],
   "source": [
    "par1 = [1, 0, 3]\n",
    "par2 = [1, -3, 6]\n",
    "\n",
    "print(fsolve(obj_func, [2, 3, 4, 5, 6], args = (par1, par2)))\n"
   ]
  },
  {
   "cell_type": "code",
   "execution_count": 4,
   "metadata": {},
   "outputs": [
    {
     "data": {
      "image/png": "[encoded data removed]",
      "text/plain": [
       "<Figure size 640x480 with 1 Axes>"
      ]
     },
     "metadata": {},
     "output_type": "display_data"
    }
   ],
   "source": [
    "[x1, y1, x2, y2, m] = fsolve(obj_func, [2, 3, 4, 5, 6], args = (par1, par2))\n",
    "\n",
    "xs = np.linspace(-5, 5)\n",
    "y1s = np.polyval(par1, xs)\n",
    "y2s = np.polyval(par2, xs)\n",
    "\n",
    "\n",
    "b = y1 - m * x1\n",
    "\n",
    "if x1 > x2:\n",
    "    line_bounds = np.linspace(x2, x1)\n",
    "else:\n",
    "    line_bounds = np.linspace(x1, x2)\n",
    "\n",
    "tangent = line_bounds * m + b\n",
    "\n",
    "\n",
    "\n",
    "plt.plot(xs, y1s, '-', color= 'black')\n",
    "plt.plot(xs, y2s, '-', color = 'black')\n",
    "plt.plot(line_bounds, tangent, '-', color = 'green')\n",
    "\n",
    "ylim = plt.gca().get_ylim()\n",
    "\n",
    "dylim = ylim[1]-ylim[0]\n",
    "plt.axvline(x1, ymax = 1+(y1 - ylim[1])/dylim, linestyle = '--')\n",
    "plt.axvline(x2, ymax = 1+(y2 - ylim[1])/dylim,linestyle = '--')\n",
    "plt.show()"
   ]
  },
  {
   "cell_type": "code",
   "execution_count": 5,
   "metadata": {},
   "outputs": [
    {
     "name": "stdout",
     "output_type": "stream",
     "text": [
      "0.9534439685466998\n"
     ]
    }
   ],
   "source": [
    "print(-(y1 - ylim[1])/dylim)"
   ]
  },
  {
   "cell_type": "code",
   "execution_count": 6,
   "metadata": {},
   "outputs": [
    {
     "name": "stdout",
     "output_type": "stream",
     "text": [
      "47.28854643898376\n"
     ]
    }
   ],
   "source": [
    "print(dylim)"
   ]
  },
  {
   "cell_type": "code",
   "execution_count": 7,
   "metadata": {},
   "outputs": [
    {
     "name": "stdout",
     "output_type": "stream",
     "text": [
      "(0.860932944606414, 48.14947938359017)\n"
     ]
    }
   ],
   "source": [
    "print(ylim)"
   ]
  },
  {
   "cell_type": "code",
   "execution_count": 8,
   "metadata": {},
   "outputs": [],
   "source": [
    "par1 = [1, 0, 3]\n",
    "par2 = [1, -3, 6]\n",
    "par3 = [2, 3, 1]\n",
    "\n",
    "import itertools\n",
    "\n",
    "\n",
    "combs = list(itertools.combinations([par1, par2, par3], 2))"
   ]
  },
  {
   "cell_type": "markdown",
   "metadata": {},
   "source": [
    "# Three Phase Curve Test (Exam Problem 5) "
   ]
  },
  {
   "cell_type": "markdown",
   "metadata": {},
   "source": [
    "A parabola is defined in the standard form \n",
    "$y = width * (x - shift)^2 + height$\n",
    "\n",
    "Width is inverse, so multiplying by a smaller number yields a wider parameter."
   ]
  },
  {
   "cell_type": "code",
   "execution_count": 9,
   "metadata": {},
   "outputs": [],
   "source": [
    "def convert_standard_to_lin(pstandard):\n",
    "    [height, width, shift] = pstandard\n",
    "    return[width, -2 * shift * width, shift **2 * width + height]\n",
    "\n"
   ]
  },
  {
   "cell_type": "code",
   "execution_count": 10,
   "metadata": {},
   "outputs": [],
   "source": [
    "def plot_G_X_diagram(curves):\n",
    "\n",
    "    [pstandard_1, pstandard_2, pstandard_3] = curves\n",
    "\n",
    "    combs = list(itertools.combinations(curves, 2))\n",
    "\n",
    "    par1 = convert_standard_to_lin(pstandard_1)\n",
    "    par2 = convert_standard_to_lin(pstandard_2)\n",
    "    par3 = convert_standard_to_lin(pstandard_3)\n",
    "\n",
    "\n",
    "    plt.ylim(-15,15)\n",
    "\n",
    "    xs = np.linspace(-5, 5, 1000)\n",
    "\n",
    "    \n",
    "\n",
    "    outs = []\n",
    "    optimalities = []\n",
    "\n",
    "    for (par_a, par_b) in combs:\n",
    "        #print(par_a, par_b)\n",
    "        #print()\n",
    "\n",
    "        mid_a = par_a[2]\n",
    "        mid_b = par_b[2]\n",
    "\n",
    "        x0_1 = [mid_a - 4, 0, mid_b - 4, 0, -1]\n",
    "        x0_2 = [mid_a + 4, 0, mid_b + 4, 0, 1]\n",
    "\n",
    "        pa = convert_standard_to_lin(par_a)\n",
    "        pb = convert_standard_to_lin(par_b)\n",
    "\n",
    "        previous_x1 = []\n",
    "        previous_xrange = []\n",
    "\n",
    "        bounds = [((-np.inf, -np.inf, -np.inf, -np.inf, -np.inf), (np.inf, np.inf, np.inf, np.inf, 0)), ((-np.inf, -np.inf, -np.inf, -np.inf, 0), (np.inf, np.inf, np.inf, np.inf,np.inf))]\n",
    "\n",
    "\n",
    "        for jdx, start_condition in enumerate([x0_1, x0_2]):\n",
    "            #print(start_condition)\n",
    "\n",
    "\n",
    "            output = least_squares(obj_func, x0 = start_condition, bounds = bounds[jdx], args = (pa, pb))\n",
    "            opt = (output.optimality)\n",
    "            out = output.x\n",
    "\n",
    "            #print(out)\n",
    "\n",
    "            if opt > 1e-6:\n",
    "                continue\n",
    "\n",
    "            #print(out)\n",
    "\n",
    "            [x1, y1, x2, y2, m] = out\n",
    "\n",
    "            #print(x2-x1)\n",
    "\n",
    "            lower_than_parab = True\n",
    "            for parab in [par1, par2, par3]:\n",
    "                if pa == parab or pb == parab:\n",
    "                    #print('not this')\n",
    "                    continue\n",
    "\n",
    "                else:\n",
    "                    parab_vals = np.polyval(parab, np.linspace(np.min([x1,x2]), np.max([x1,x2]), 1000))\n",
    "                    b = y1 - m * x1\n",
    "\n",
    "                    if x1 > x2:\n",
    "                        x_tan = np.linspace(x2, x1, 1000)\n",
    "                    else:\n",
    "                        x_tan = np.linspace(x1, x2, 1000)\n",
    "\n",
    "                    tangent = x_tan * m + b\n",
    "\n",
    "                    diff = parab_vals - tangent\n",
    "\n",
    "                    if np.any(diff < 0):\n",
    "\n",
    "                        lower_than_parab = False\n",
    "\n",
    "            if not lower_than_parab:\n",
    "                continue\n",
    "\n",
    "\n",
    "            if np.abs(x2 - x1) < .001 or y2 > 200 or y1 > 2000 or np.abs(m) < np.abs(3e-16):\n",
    "                continue\n",
    "\n",
    "            is_lowest = True\n",
    "\n",
    "            for idx, prev in enumerate(outs):\n",
    "                if prev is None:\n",
    "                    continue\n",
    "                xl_prev= np.min([prev[0], prev[2]])\n",
    "                xr_prev = np.max([prev[0], prev[2]])\n",
    "                yl_prev = prev[prev.tolist().index(xl_prev) + 1]\n",
    "\n",
    "                xl = np.min([out[0], out[2]])\n",
    "                xr = np.max([out[0], out[2]])\n",
    "                yl = out[out.tolist().index(xl) + 1]\n",
    "\n",
    "                if not (np.max([xl_prev, xl]) <= np.min([xr_prev, xr])):\n",
    "                    continue\n",
    "\n",
    "\n",
    "                else:\n",
    "                    \"\"\"if np.abs(xl - xl_prev) <= 0.001:\n",
    "                        continue\"\"\"\n",
    "                \n",
    "\n",
    "                    if xl < xl_prev:\n",
    "                        yl_test = xl_prev * out[-1] + (yl - out[-1] * xl)\n",
    "                        if yl_test < yl_prev:\n",
    "                            outs[idx] = None\n",
    "                        else:    \n",
    "                            is_lowest = False\n",
    "                    else:\n",
    "                        yl_prev_test = x1 * prev[-1] + (yl_prev - prev[-1] * yl_prev)\n",
    "                        if yl < yl_prev_test:\n",
    "                            outs[idx] = None\n",
    "                        else:    \n",
    "                            is_lowest = False\n",
    "\n",
    "                    \"\"\"if yl < yl_prev:\n",
    "                        outs[idx] = None\n",
    "                    else:    \n",
    "                        is_lowest = False\"\"\"\n",
    "                    \n",
    "            if is_lowest:\n",
    "                outs.append(out)\n",
    "\n",
    "        #print(outs)    \n",
    "        #print()\n",
    "        #print(\"outs after combination: \", outs)\n",
    "\n",
    "    #print(\"Final tangents: \", outs)\n",
    "\n",
    "    y1s = np.polyval(par1, xs)\n",
    "    y2s = np.polyval(par2, xs)\n",
    "    y3s = np.polyval(par3, xs)\n",
    "\n",
    "    plt.plot(xs, y1s, '-', color= 'green')\n",
    "    plt.plot(xs, y2s, '-', color = 'orange')\n",
    "    plt.plot(xs, y3s, '-', color = 'purple')\n",
    "    \n",
    "    for out in outs:\n",
    "\n",
    "        if out is None:\n",
    "            continue\n",
    "        [x1, y1, x2, y2, m] = out\n",
    "\n",
    "        b = y1 - m * x1\n",
    "\n",
    "        if x1 > x2:\n",
    "            x_tan = np.linspace(x2, x1)\n",
    "        else:\n",
    "            x_tan = np.linspace(x1, x2)\n",
    "\n",
    "        tangent = x_tan * m + b\n",
    "\n",
    "\n",
    "        ##print(y1, y2)\n",
    "\n",
    "        plt.plot(x_tan, tangent, color = \"black\")\n",
    "        ylim = plt.gca().get_ylim()\n",
    "        dylim = ylim[1]-ylim[0]\n",
    "        plt.axvline(x1, ymax = 1+(y1 - ylim[1])/dylim, linestyle = '--')\n",
    "        plt.axvline(x2, ymax = 1+(y2 - ylim[1])/dylim,linestyle = '--')\n",
    "        plt.xlim(0, 1)\n",
    "        plt.xlabel(\"X2\")\n",
    "        plt.ylabel(\"G\")\n",
    "    return plt.gcf()"
   ]
  },
  {
   "cell_type": "code",
   "execution_count": 11,
   "metadata": {},
   "outputs": [],
   "source": [
    "def wrapper(height_2, height_3):\n",
    "    #Parabola 1 \n",
    "    height_1= 0\n",
    "    width_1 = 200\n",
    "    shift_1 = .25\n",
    "\n",
    "    p_1 = [height_1, width_1, shift_1]\n",
    "\n",
    "\n",
    "    #Parabola 1 \n",
    "    width_2 = 1000\n",
    "    shift_2 = .25\n",
    "\n",
    "    p_2 = [height_2, width_2, shift_2]\n",
    "\n",
    "    #Parabola 1 \n",
    "    width_3 = 225\n",
    "    shift_3 = .75\n",
    "\n",
    "    p_3 = [height_3, width_3, shift_3]\n",
    "\n",
    "    fig = plot_G_X_diagram(curves = [p_1, p_2, p_3])\n",
    "\n",
    "    plt.show()"
   ]
  },
  {
   "cell_type": "code",
   "execution_count": 12,
   "metadata": {},
   "outputs": [
    {
     "data": {
      "application/vnd.jupyter.widget-view+json": {
       "model_id": "f8bae6e2d56e46939ee6b7d8ccb8c9ed",
       "version_major": 2,
       "version_minor": 0
      },
      "text/plain": [
       "interactive(children=(FloatSlider(value=0.0, description='height_2', max=15.0, min=-15.0, step=0.01), FloatSli…"
      ]
     },
     "execution_count": 12,
     "metadata": {},
     "output_type": "execute_result"
    }
   ],
   "source": [
    "from ipywidgets import *\n",
    "\n",
    "%matplotlib inline\n",
    "\n",
    "interactive_plot = interactive(wrapper, height_2 = (-15, 15., 0.01), height_3 = (-15,15, 0.01))\n",
    "interactive_plot"
   ]
  },
  {
   "cell_type": "markdown",
   "metadata": {},
   "source": [
    "# More General Interactive Plot (Allows changing of all parameters)"
   ]
  },
  {
   "cell_type": "code",
   "execution_count": 13,
   "metadata": {},
   "outputs": [],
   "source": [
    "def wrapper_general(height_1 = 0, width_1 = 200, shift_1 = 0.3, height_2 = 0.5, width_2 = 200, shift_2 = 0.5, height_3 = 0, width_3 = 200, shift_3 = 0.7):\n",
    "    #Parabola 1 \n",
    "    \"\"\"height_1= 0\n",
    "    width_1 = 200\n",
    "    shift_1 = .25\"\"\"\n",
    "\n",
    "    p_1 = [height_1, width_1, shift_1]\n",
    "\n",
    "\n",
    "    #Parabola 1 \n",
    "    \"\"\"width_2 = 1000\n",
    "    shift_2 = .25\"\"\"\n",
    "\n",
    "    p_2 = [height_2, width_2, shift_2]\n",
    "\n",
    "    #Parabola 1 \n",
    "    \"\"\"width_3 = 225\n",
    "    shift_3 = .75\"\"\"\n",
    "\n",
    "    p_3 = [height_3, width_3, shift_3]\n",
    "\n",
    "    fig = plot_G_X_diagram(curves = [p_1, p_2, p_3])\n",
    "\n",
    "    plt.show()"
   ]
  },
  {
   "cell_type": "code",
   "execution_count": 14,
   "metadata": {},
   "outputs": [
    {
     "data": {
      "application/vnd.jupyter.widget-view+json": {
       "model_id": "1310b8988e624c849007fc5bcb5bf52b",
       "version_major": 2,
       "version_minor": 0
      },
      "text/plain": [
       "interactive(children=(FloatSlider(value=0.0, description='height_1', max=15.0, min=-15.0, step=0.01), IntSlide…"
      ]
     },
     "execution_count": 14,
     "metadata": {},
     "output_type": "execute_result"
    }
   ],
   "source": [
    "interactive_plot_2 = interactive(wrapper_general,\n",
    "                               height_1 = (-15, 15., 0.01),\n",
    "                               width_1 = (100, 1000, 10),\n",
    "                               shift_1 = (0, 1, 0.01),\n",
    "                               height_2 = (-15, 15., 0.01),\n",
    "                               width_2 = (100, 1000, 10),\n",
    "                               shift_2 = (0, 1, 0.01),\n",
    "                               height_3 = (-15,15, 0.01),\n",
    "                               width_3 = (100, 1000, 10),\n",
    "                               shift_3 = (0, 1, .01))\n",
    "interactive_plot_2"
   ]
  },
  {
   "cell_type": "code",
   "execution_count": null,
   "metadata": {},
   "outputs": [],
   "source": []
  }
 ],
 "metadata": {
  "kernelspec": {
   "display_name": "geo-env",
   "language": "python",
   "name": "python3"
  },
  "language_info": {
   "codemirror_mode": {
    "name": "ipython",
    "version": 3
   },
   "file_extension": ".py",
   "mimetype": "text/x-python",
   "name": "python",
   "nbconvert_exporter": "python",
   "pygments_lexer": "ipython3",
   "version": "3.8.16"
  }
 },
 "nbformat": 4,
 "nbformat_minor": 2
}
